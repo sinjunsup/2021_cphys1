{
 "cells": [
  {
   "cell_type": "markdown",
   "metadata": {},
   "source": [
    "- \"*\" 표식이 있는 숙제는 미제출"
   ]
  },
  {
   "cell_type": "markdown",
   "metadata": {},
   "source": [
    "# Anaconda & Jupyter *"
   ]
  },
  {
   "cell_type": "markdown",
   "metadata": {},
   "source": [
    "수업 실습을 진행하기 위해 아나콘다 배포판을 설치하여야 합니다. \n",
    "\n",
    "* 다음의 링크로 들어가서 아나콘다를 설치합시다. https://www.anaconda.com/distribution\n",
    "* Jupyter(아나콘다를 설치했다면이미 설치되어 있음) 사용법을 익혀둡니다.   \n",
    "* 본 강의는 아나콘다 배포판을 설치하고 쥬피터를 사용하는 것을 기본으로 진행합니다."
   ]
  },
  {
   "cell_type": "markdown",
   "metadata": {},
   "source": [
    "# Github desktop *"
   ]
  },
  {
   "cell_type": "markdown",
   "metadata": {},
   "source": [
    "다음의 차례대로 깃허브 사용법을 익히고 아래 과제를 자신의 깃허브 저장소에 업로드(push)하시기 바랍니다.\n",
    "1. github에 계정을 만든다.\n",
    "2. 새로운 저장소(repository)를 만든다. (create a new repository)\n",
    "3. github desktop을 다운로드 및 설치한다.\n",
    "4. 온라인 상의 저장소를 로컬컴퓨터로 가져온다. (pull)\n",
    "5. commit, push로 내 컴퓨터에 있는 파일을 저장소에 업데이트한다.\n",
    "\n",
    "참고 : 구글에 \"깃허브 사용법\", \"깃허브 데스크탑 사용법\"을 검색하세요."
   ]
  },
  {
   "cell_type": "markdown",
   "metadata": {},
   "source": [
    "# Logistic Map"
   ]
  },
  {
   "cell_type": "markdown",
   "metadata": {},
   "source": [
    "로지스틱 맵은 다음처럼 주어진다.\n",
    "$$ f_{n+1} = r f_n (1- f_n). $$  \n",
    "\n",
    "주어진 $r$과 초기조건 $f_0$에 대해,\n",
    "반복문(while or for)을 이용해서 $n$이 1~10일 때 $f_n$을 구하여라. \n",
    "\n",
    "\n",
    "Reference:  \n",
    "https://ko.wikipedia.org/wiki/%EB%A1%9C%EC%A7%80%EC%8A%A4%ED%8B%B1_%EC%82%AC%EC%83%81"
   ]
  },
  {
   "cell_type": "markdown",
   "metadata": {},
   "source": [
    "1. $r=0.5$, $f_0=0.5$\n",
    "2. $r=2.5$, $f_0=0.5$\n",
    "3. $r=4.5$, $f_0=0.5$\n",
    "4. $r=4.5$, $f_0=0.51$"
   ]
  },
  {
   "cell_type": "code",
   "execution_count": 11,
   "metadata": {},
   "outputs": [
    {
     "name": "stdout",
     "output_type": "stream",
     "text": [
      "f1 = 0.125\n",
      "f2 = 0.0546875\n",
      "f3 = 0.025848388671875\n",
      "f4 = 0.012590124737471342\n",
      "f5 = 0.006215806748283127\n",
      "f6 = 0.0030885852473755623\n",
      "f7 = 0.0015395229442726282\n",
      "f8 = 0.0007685764066883431\n",
      "f9 = 0.00038399284849771257\n",
      "f10 = 0.0001919226989950076\n"
     ]
    }
   ],
   "source": [
    "# r = 0.5, f0 = 0.5\n",
    "r = 0.5\n",
    "f0 = 0.5\n",
    "for i in range(10):\n",
    "    f0 = r * f0 * (1 - f0)\n",
    "    print('f' + str(i+1) + ' =', f0)    "
   ]
  },
  {
   "cell_type": "code",
   "execution_count": 12,
   "metadata": {},
   "outputs": [
    {
     "name": "stdout",
     "output_type": "stream",
     "text": [
      "f1 = 0.625\n",
      "f2 = 0.5859375\n",
      "f3 = 0.606536865234375\n",
      "f4 = 0.5966247408650815\n",
      "f5 = 0.6016591486318896\n",
      "f6 = 0.5991635437485985\n",
      "f7 = 0.6004164789780495\n",
      "f8 = 0.5997913268741273\n",
      "f9 = 0.6001042277017528\n",
      "f10 = 0.599947858990589\n"
     ]
    }
   ],
   "source": [
    "# r = 2.5, f0 = 0.5\n",
    "r = 2.5\n",
    "f0 = 0.5\n",
    "for i in range(10):\n",
    "    f0 = r * f0 * (1 - f0)\n",
    "    print('f' + str(i+1) + ' =', f0)   "
   ]
  },
  {
   "cell_type": "code",
   "execution_count": 13,
   "metadata": {},
   "outputs": [
    {
     "name": "stdout",
     "output_type": "stream",
     "text": [
      "f1 = 1.125\n",
      "f2 = -0.6328125\n",
      "f3 = -4.649688720703125\n",
      "f4 = -118.21182264061645\n",
      "f5 = -63415.11075595729\n",
      "f6 = -18096928592.854885\n",
      "f7 = -1.4737447103084353e+21\n",
      "f8 = -9.773655620229423e+42\n",
      "f9 = -4.298595488227898e+86\n",
      "f10 = -8.315065427135959e+173\n"
     ]
    }
   ],
   "source": [
    "# r = 4.5, f0 = 0.5\n",
    "r = 4.5\n",
    "f0 = 0.5\n",
    "for i in range(10):\n",
    "    f0 = r * f0 * (1 - f0)\n",
    "    print('f' + str(i+1) + ' =', f0)   "
   ]
  },
  {
   "cell_type": "code",
   "execution_count": 14,
   "metadata": {},
   "outputs": [
    {
     "name": "stdout",
     "output_type": "stream",
     "text": [
      "f1 = 1.12455\n",
      "f2 = -0.6302821612499996\n",
      "f3 = -4.623919938179865\n",
      "f4 = -117.0204998979472\n",
      "f5 = -62148.68053318534\n",
      "f6 = -17381342883.134087\n",
      "f7 = -1.359499861973058e+21\n",
      "f8 = -8.317079436171436e+42\n",
      "f9 = -3.11282146564136e+86\n",
      "f10 = -4.360345864630932e+173\n"
     ]
    }
   ],
   "source": [
    "# r = 4.5, f0 = 0.51\n",
    "r = 4.5\n",
    "f0 = 0.51\n",
    "for i in range(10):\n",
    "    f0 = r * f0 * (1 - f0)\n",
    "    print('f' + str(i+1) + ' =', f0)   "
   ]
  },
  {
   "cell_type": "markdown",
   "metadata": {},
   "source": [
    "### 숙제 마감시간은 3월 15일 자정입니다."
   ]
  }
 ],
 "metadata": {
  "kernelspec": {
   "display_name": "Python 3",
   "language": "python",
   "name": "python3"
  },
  "language_info": {
   "codemirror_mode": {
    "name": "ipython",
    "version": 3
   },
   "file_extension": ".py",
   "mimetype": "text/x-python",
   "name": "python",
   "nbconvert_exporter": "python",
   "pygments_lexer": "ipython3",
   "version": "3.9.1"
  }
 },
 "nbformat": 4,
 "nbformat_minor": 2
}
