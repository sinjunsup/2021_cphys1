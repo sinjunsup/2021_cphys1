{
 "cells": [
  {
   "cell_type": "code",
   "execution_count": 51,
   "metadata": {},
   "outputs": [],
   "source": [
    "n=0\n",
    "f=0\n",
    "def fibo(n): # fa=f(n-1), fb=f(n-2)    \n",
    "    fa,fb=1,1\n",
    "    i =0\n",
    "    if  n==1:\n",
    "        f=1\n",
    "    elif n==2:\n",
    "        f=1\n",
    "    elif 2<n: \n",
    "        while(i<n-2):\n",
    "            f=fa+fb\n",
    "            fb=fa\n",
    "            fa=f\n",
    "            i=i+1\n",
    "    else:\n",
    "        f= \"you must use 0< integer\"\n",
    "    print(\"f\",n,\"=\",f)"
   ]
  },
  {
   "cell_type": "code",
   "execution_count": 57,
   "metadata": {},
   "outputs": [
    {
     "name": "stdout",
     "output_type": "stream",
     "text": [
      "f 9 = 34\n"
     ]
    }
   ],
   "source": [
    "fibo(9)"
   ]
  },
  {
   "cell_type": "code",
   "execution_count": 58,
   "metadata": {},
   "outputs": [],
   "source": [
    "r,f=0,0\n",
    "def lo (r,f):\n",
    "    i=0\n",
    "    while(i<=19):\n",
    "        i=i+1\n",
    "        f=r*f*(1-f)\n",
    "        print(\"f\",i,\"=\",f)"
   ]
  },
  {
   "cell_type": "code",
   "execution_count": 59,
   "metadata": {},
   "outputs": [
    {
     "name": "stdout",
     "output_type": "stream",
     "text": [
      "f 1 = 1.125\n",
      "f 2 = -0.6328125\n",
      "f 3 = -4.649688720703125\n",
      "f 4 = -118.21182264061645\n",
      "f 5 = -63415.11075595729\n",
      "f 6 = -18096928592.854885\n",
      "f 7 = -1.4737447103084353e+21\n",
      "f 8 = -9.773655620229423e+42\n",
      "f 9 = -4.298595488227898e+86\n",
      "f 10 = -8.315065427135959e+173\n",
      "f 11 = -inf\n",
      "f 12 = -inf\n",
      "f 13 = -inf\n",
      "f 14 = -inf\n",
      "f 15 = -inf\n",
      "f 16 = -inf\n",
      "f 17 = -inf\n",
      "f 18 = -inf\n",
      "f 19 = -inf\n",
      "f 20 = -inf\n"
     ]
    }
   ],
   "source": [
    "lo(4.5,0.5)"
   ]
  },
  {
   "cell_type": "code",
   "execution_count": 60,
   "metadata": {},
   "outputs": [
    {
     "name": "stdout",
     "output_type": "stream",
     "text": [
      "f 1 = 1.12455\n",
      "f 2 = -0.6302821612499996\n",
      "f 3 = -4.623919938179865\n",
      "f 4 = -117.0204998979472\n",
      "f 5 = -62148.68053318534\n",
      "f 6 = -17381342883.134087\n",
      "f 7 = -1.359499861973058e+21\n",
      "f 8 = -8.317079436171436e+42\n",
      "f 9 = -3.11282146564136e+86\n",
      "f 10 = -4.360345864630932e+173\n",
      "f 11 = -inf\n",
      "f 12 = -inf\n",
      "f 13 = -inf\n",
      "f 14 = -inf\n",
      "f 15 = -inf\n",
      "f 16 = -inf\n",
      "f 17 = -inf\n",
      "f 18 = -inf\n",
      "f 19 = -inf\n",
      "f 20 = -inf\n"
     ]
    }
   ],
   "source": [
    "lo(4.5,0.51)"
   ]
  },
  {
   "cell_type": "code",
   "execution_count": 61,
   "metadata": {},
   "outputs": [
    {
     "name": "stdout",
     "output_type": "stream",
     "text": [
      "f 1 = 1.1249955\n",
      "f 2 = -0.6327871875911253\n",
      "f 3 = -4.649430655667751\n",
      "f 4 = -118.19986234888862\n",
      "f 5 = -63402.33294740298\n",
      "f 6 = -18089636514.7783\n",
      "f 7 = -1.4725572716470052e+21\n",
      "f 8 = -9.757912132262123e+42\n",
      "f 9 = -4.2847582131426745e+86\n",
      "f 10 = -8.261618825292122e+173\n",
      "f 11 = -inf\n",
      "f 12 = -inf\n",
      "f 13 = -inf\n",
      "f 14 = -inf\n",
      "f 15 = -inf\n",
      "f 16 = -inf\n",
      "f 17 = -inf\n",
      "f 18 = -inf\n",
      "f 19 = -inf\n",
      "f 20 = -inf\n"
     ]
    }
   ],
   "source": [
    "lo(4.5,0.501)"
   ]
  },
  {
   "cell_type": "code",
   "execution_count": null,
   "metadata": {},
   "outputs": [],
   "source": []
  }
 ],
 "metadata": {
  "kernelspec": {
   "display_name": "Python 3",
   "language": "python",
   "name": "python3"
  },
  "language_info": {
   "codemirror_mode": {
    "name": "ipython",
    "version": 3
   },
   "file_extension": ".py",
   "mimetype": "text/x-python",
   "name": "python",
   "nbconvert_exporter": "python",
   "pygments_lexer": "ipython3",
   "version": "3.8.5"
  }
 },
 "nbformat": 4,
 "nbformat_minor": 4
}
