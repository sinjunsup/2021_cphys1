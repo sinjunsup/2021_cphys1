{
 "cells": [
  {
   "cell_type": "markdown",
   "metadata": {},
   "source": [
    "## Gaussian Integral"
   ]
  },
  {
   "cell_type": "code",
   "execution_count": 1,
   "metadata": {},
   "outputs": [],
   "source": [
    "import numpy as np\n",
    "import sympy\n",
    "from sympy import *"
   ]
  },
  {
   "cell_type": "markdown",
   "metadata": {},
   "source": [
    "## 1"
   ]
  },
  {
   "cell_type": "code",
   "execution_count": 6,
   "metadata": {},
   "outputs": [
    {
     "data": {
      "text/latex": [
       "$\\displaystyle \\begin{cases} \\frac{\\sqrt{\\pi}}{\\sqrt{a}} & \\text{for}\\: \\left|{\\arg{\\left(a \\right)}}\\right| \\leq \\frac{\\pi}{2} \\\\\\int\\limits_{-\\infty}^{\\infty} e^{- a x^{2}}\\, dx & \\text{otherwise} \\end{cases}$"
      ],
      "text/plain": [
       "Piecewise((sqrt(pi)/sqrt(a), Abs(arg(a)) <= pi/2), (Integral(exp(-a*x**2), (x, -oo, oo)), True))"
      ]
     },
     "execution_count": 6,
     "metadata": {},
     "output_type": "execute_result"
    }
   ],
   "source": [
    "x= sympy.symbols(\"x\")\n",
    "\n",
    "sympy.integrate(sympy.exp(-a*x**2),(x,-oo,oo))"
   ]
  },
  {
   "cell_type": "markdown",
   "metadata": {},
   "source": [
    "## 2"
   ]
  },
  {
   "cell_type": "code",
   "execution_count": 7,
   "metadata": {},
   "outputs": [
    {
     "data": {
      "text/latex": [
       "$\\displaystyle \\begin{cases} 0 & \\text{for}\\: \\left|{\\arg{\\left(a \\right)}}\\right| < \\frac{\\pi}{2} \\\\\\int\\limits_{-\\infty}^{\\infty} x e^{- a x^{2}}\\, dx & \\text{otherwise} \\end{cases}$"
      ],
      "text/plain": [
       "Piecewise((0, Abs(arg(a)) < pi/2), (Integral(x*exp(-a*x**2), (x, -oo, oo)), True))"
      ]
     },
     "execution_count": 7,
     "metadata": {},
     "output_type": "execute_result"
    }
   ],
   "source": [
    "x= sympy.symbols(\"x\")\n",
    "\n",
    "sympy.integrate(x*sympy.exp(-a*x**2),(x,-oo,oo))"
   ]
  },
  {
   "cell_type": "markdown",
   "metadata": {},
   "source": [
    "## 3"
   ]
  },
  {
   "cell_type": "code",
   "execution_count": 8,
   "metadata": {},
   "outputs": [
    {
     "data": {
      "text/latex": [
       "$\\displaystyle \\begin{cases} \\frac{\\sqrt{\\pi}}{2 a^{\\frac{3}{2}}} & \\text{for}\\: \\left|{\\arg{\\left(a \\right)}}\\right| < \\frac{\\pi}{2} \\\\\\int\\limits_{-\\infty}^{\\infty} x^{2} e^{- a x^{2}}\\, dx & \\text{otherwise} \\end{cases}$"
      ],
      "text/plain": [
       "Piecewise((sqrt(pi)/(2*a**(3/2)), Abs(arg(a)) < pi/2), (Integral(x**2*exp(-a*x**2), (x, -oo, oo)), True))"
      ]
     },
     "execution_count": 8,
     "metadata": {},
     "output_type": "execute_result"
    }
   ],
   "source": [
    "x= sympy.symbols(\"x\")\n",
    "\n",
    "sympy.integrate((x**2)*sympy.exp(-a*x**2),(x,-oo,oo))"
   ]
  },
  {
   "cell_type": "markdown",
   "metadata": {},
   "source": [
    "## 4"
   ]
  },
  {
   "cell_type": "code",
   "execution_count": 9,
   "metadata": {},
   "outputs": [
    {
     "data": {
      "text/latex": [
       "$\\displaystyle \\begin{cases} \\frac{3 \\sqrt{\\pi}}{4 a^{\\frac{5}{2}}} & \\text{for}\\: \\left|{\\arg{\\left(a \\right)}}\\right| < \\frac{\\pi}{2} \\\\\\int\\limits_{-\\infty}^{\\infty} x^{4} e^{- a x^{2}}\\, dx & \\text{otherwise} \\end{cases}$"
      ],
      "text/plain": [
       "Piecewise((3*sqrt(pi)/(4*a**(5/2)), Abs(arg(a)) < pi/2), (Integral(x**4*exp(-a*x**2), (x, -oo, oo)), True))"
      ]
     },
     "execution_count": 9,
     "metadata": {},
     "output_type": "execute_result"
    }
   ],
   "source": [
    "x= sympy.symbols(\"x\")\n",
    "\n",
    "sympy.integrate((x**4)*sympy.exp(-a*x**2),(x,-oo,oo))"
   ]
  },
  {
   "cell_type": "markdown",
   "metadata": {},
   "source": [
    "## 미분방정식"
   ]
  },
  {
   "cell_type": "code",
   "execution_count": 15,
   "metadata": {},
   "outputs": [],
   "source": [
    "t = symbols('t')\n",
    "x = Function('x')"
   ]
  },
  {
   "cell_type": "code",
   "execution_count": 16,
   "metadata": {},
   "outputs": [
    {
     "data": {
      "text/latex": [
       "$\\displaystyle x{\\left(t \\right)} = e^{- a t}$"
      ],
      "text/plain": [
       "Eq(x(t), exp(-a*t))"
      ]
     },
     "execution_count": 16,
     "metadata": {},
     "output_type": "execute_result"
    }
   ],
   "source": [
    "dsolve(Eq(x(t).diff(t),-a*x(t)),ics= {x(0):1})# 초기조건 x(0) = 1"
   ]
  },
  {
   "cell_type": "code",
   "execution_count": null,
   "metadata": {},
   "outputs": [],
   "source": []
  }
 ],
 "metadata": {
  "kernelspec": {
   "display_name": "Python 3",
   "language": "python",
   "name": "python3"
  },
  "language_info": {
   "codemirror_mode": {
    "name": "ipython",
    "version": 3
   },
   "file_extension": ".py",
   "mimetype": "text/x-python",
   "name": "python",
   "nbconvert_exporter": "python",
   "pygments_lexer": "ipython3",
   "version": "3.8.5"
  }
 },
 "nbformat": 4,
 "nbformat_minor": 4
}
